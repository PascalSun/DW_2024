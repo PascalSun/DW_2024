{
 "cells": [
  {
   "cell_type": "markdown",
   "id": "d9b95d730101ade",
   "metadata": {},
   "source": [
    "# Connect to RDBMS in Python\n",
    "## Use pyscopg2 and then run SQL"
   ]
  },
  {
   "cell_type": "code",
   "execution_count": null,
   "id": "initial_id",
   "metadata": {
    "tags": []
   },
   "outputs": [],
   "source": [
    "import psycopg2\n",
    "from psycopg2 import OperationalError\n",
    "\n",
    "\n",
    "def create_connection(db_name, db_user, db_password, db_host, db_port):\n",
    "    connection = None\n",
    "    try:\n",
    "        connection = psycopg2.connect(\n",
    "            database=db_name,\n",
    "            user=db_user,\n",
    "            password=db_password,\n",
    "            host=db_host,\n",
    "            port=db_port,\n",
    "        )\n",
    "        print(\"Connection to PostgreSQL DB successful\")\n",
    "    except OperationalError as e:\n",
    "        print(f\"The error '{e}' occurred\")\n",
    "    return connection"
   ]
  },
  {
   "cell_type": "code",
   "execution_count": null,
   "id": "e78498952afd7584",
   "metadata": {
    "tags": []
   },
   "outputs": [],
   "source": [
    "\n",
    "# Connection details\n",
    "db_name = \"AdventureworksDW\"\n",
    "db_user = \"postgres\"\n",
    "db_password = \"postgres\"  # Update with your password\n",
    "db_host = \"pgdb\"  # Update if your DB is hosted elsewhere\n",
    "db_port = \"5432\"\n",
    "\n",
    "# Create the connection\n",
    "connection = create_connection(db_name, db_user, db_password, db_host, db_port)"
   ]
  },
  {
   "cell_type": "code",
   "execution_count": null,
   "id": "9e84dc7d-8ca3-422f-95c7-fcddc0c03d34",
   "metadata": {
    "tags": []
   },
   "outputs": [],
   "source": [
    "# run raw SQL with the connection and view the results\n",
    "cursor = connection.cursor()\n",
    "cursor.execute(\"SELECT * FROM dimcustomer LIMIT 10\")\n",
    "result = cursor.fetchall()\n",
    "for row in result:\n",
    "    print(row)\n",
    "    break"
   ]
  },
  {
   "cell_type": "markdown",
   "id": "8519ddfe-643f-4838-983f-10771bc8cb31",
   "metadata": {
    "tags": []
   },
   "source": [
    "## Use pandas to connect and read SQL"
   ]
  },
  {
   "cell_type": "code",
   "execution_count": null,
   "id": "29667f3bf88db094",
   "metadata": {
    "collapsed": false,
    "tags": []
   },
   "outputs": [],
   "source": [
    "import pandas as pd\n",
    "from sqlalchemy import create_engine"
   ]
  },
  {
   "cell_type": "code",
   "execution_count": null,
   "id": "21c7e28c7a158d95",
   "metadata": {
    "collapsed": false,
    "tags": []
   },
   "outputs": [],
   "source": [
    "connection_url = f\"postgresql://{db_user}:{db_password}@{db_host}:{db_port}/{db_name}\"\n",
    "\n",
    "# Create the engine\n",
    "engine = create_engine(connection_url)"
   ]
  },
  {
   "cell_type": "code",
   "execution_count": null,
   "id": "2776536401d058b5",
   "metadata": {
    "collapsed": false,
    "tags": []
   },
   "outputs": [],
   "source": [
    "df = pd.read_sql_query(\"SELECT * FROM dimcustomer LIMIT 10\", engine)"
   ]
  },
  {
   "cell_type": "code",
   "execution_count": null,
   "id": "7da894928d98ffb2",
   "metadata": {
    "collapsed": false,
    "tags": []
   },
   "outputs": [],
   "source": [
    "df"
   ]
  },
  {
   "cell_type": "markdown",
   "id": "7830c3a28c05369",
   "metadata": {},
   "source": [
    "## Use atoti to connect and read SQL"
   ]
  },
  {
   "cell_type": "code",
   "execution_count": null,
   "id": "5754e9d862372df0",
   "metadata": {
    "collapsed": false,
    "tags": []
   },
   "outputs": [],
   "source": [
    "import atoti as tt"
   ]
  },
  {
   "cell_type": "code",
   "execution_count": null,
   "id": "dfc832741c83578b",
   "metadata": {
    "collapsed": false,
    "tags": []
   },
   "outputs": [],
   "source": [
    "session = tt.Session()"
   ]
  },
  {
   "cell_type": "code",
   "execution_count": null,
   "id": "b9fab168e0fa4e29",
   "metadata": {
    "collapsed": false,
    "tags": []
   },
   "outputs": [],
   "source": [
    "jdbc_url = f\"jdbc:postgresql://{db_host}:{db_port}/{db_name}?user={db_user}&password={db_password}\""
   ]
  },
  {
   "cell_type": "code",
   "execution_count": null,
   "id": "2d09ecc7ee336a63",
   "metadata": {
    "collapsed": false,
    "tags": []
   },
   "outputs": [],
   "source": [
    "customer_table = session.read_sql(\n",
    "    \"SELECT * FROM dimcustomer LIMIT 10\",\n",
    "    keys=[\"customerkey\"],\n",
    "    table_name=\"Customer\",\n",
    "    url=jdbc_url,\n",
    ")"
   ]
  },
  {
   "cell_type": "code",
   "execution_count": null,
   "id": "6a70d98e-8eae-4619-8ac9-1b21c3fce135",
   "metadata": {},
   "outputs": [],
   "source": [
    "customer_table"
   ]
  },
  {
   "cell_type": "markdown",
   "id": "84097e1d5a2cc003",
   "metadata": {
    "collapsed": false
   },
   "source": [
    "## Use pgAdmin\n",
    "pgAdmin is a web based interface for you to monitor, view and operate on the postgresql database\n",
    "## Use command line psql\n",
    "psql is a command line tool you can use to connect to the database server\n",
    "## Use PowerBI[Optional]\n",
    "You can also hook the postgresql to the PowerBI and do the visualization directly"
   ]
  }
 ],
 "metadata": {
  "kernelspec": {
   "display_name": "Python 3 (ipykernel)",
   "language": "python",
   "name": "python3"
  },
  "language_info": {
   "codemirror_mode": {
    "name": "ipython",
    "version": 3
   },
   "file_extension": ".py",
   "mimetype": "text/x-python",
   "name": "python",
   "nbconvert_exporter": "python",
   "pygments_lexer": "ipython3",
   "version": "3.11.6"
  }
 },
 "nbformat": 4,
 "nbformat_minor": 5
}
